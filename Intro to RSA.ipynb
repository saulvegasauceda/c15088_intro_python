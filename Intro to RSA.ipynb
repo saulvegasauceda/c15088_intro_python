{
 "cells": [
  {
   "cell_type": "code",
   "execution_count": 33,
   "id": "ebbae1b0-31fe-47c8-bcd0-3a3d55d619a8",
   "metadata": {},
   "outputs": [],
   "source": [
    "def gcd(a, b):\n",
    "    \"\"\"\n",
    "    Performs euclidean algorithm on a and b to compute gcd\n",
    "    \n",
    "    Parameters\n",
    "    ----------\n",
    "    a: positive integer\n",
    "    b: positive integer\n",
    "        \n",
    "    Returns\n",
    "    -------\n",
    "    gcd: greatest common divisor of a and b\n",
    "    \"\"\"\n",
    "    if(b == 0):\n",
    "        return a\n",
    "    else:\n",
    "        return gcd(b, a % b)\n",
    "    \n",
    "def pulverizer(a, b, verbose=True):\n",
    "    \"\"\"\n",
    "    Performs pulverizer on int a and b.\n",
    "    Using the expression gcd(a, b) = (s * a) + (t * b)\n",
    "    \n",
    "    Parameters\n",
    "    ----------\n",
    "    a: positive integer\n",
    "    b: positive integer\n",
    "        \n",
    "    Returns\n",
    "    -------\n",
    "    gcd: greatest common divisor of a and b\n",
    "    \"\"\"\n",
    "    x = max(a, b)\n",
    "    y = min(a, b)\n",
    "    rem = None\n",
    "\n",
    "    while rem != 0:\n",
    "        rem = x % y\n",
    "        q = (rem - x) // y\n",
    "        \n",
    "        if verbose:\n",
    "            print(f'{rem} = {x} - ({q})({y})')\n",
    "        \n",
    "        x = max(y, rem)\n",
    "        y = min(y, rem)\n",
    "        \n",
    "    return x"
   ]
  },
  {
   "cell_type": "code",
   "execution_count": 34,
   "id": "10e54584-6d5f-4daf-a8c1-115aef829366",
   "metadata": {},
   "outputs": [
    {
     "name": "stdout",
     "output_type": "stream",
     "text": [
      "49 = 259 - (-3)(70)\n",
      "21 = 70 - (-1)(49)\n",
      "7 = 49 - (-2)(21)\n",
      "0 = 21 - (-3)(7)\n"
     ]
    },
    {
     "data": {
      "text/plain": [
       "7"
      ]
     },
     "execution_count": 34,
     "metadata": {},
     "output_type": "execute_result"
    }
   ],
   "source": [
    "pulverizer(259, 70)"
   ]
  },
  {
   "cell_type": "code",
   "execution_count": 35,
   "id": "48084fe2-5f4b-4487-861e-52ba342622b7",
   "metadata": {},
   "outputs": [],
   "source": [
    "def is_prime(p):\n",
    "    \"\"\"\n",
    "    Checks whether integer p is prime\n",
    "    \n",
    "    Parameters\n",
    "    ----------\n",
    "    p: positive integer\n",
    "        \n",
    "    Returns\n",
    "    -------\n",
    "    bool\n",
    "    \"\"\"\n",
    "    for i in range(2, (p//2)+1):\n",
    "        if (p % i) == 0:\n",
    "            return True\n",
    "    else:\n",
    "        return False"
   ]
  },
  {
   "cell_type": "code",
   "execution_count": 37,
   "id": "69d5c34d-b451-4440-9770-37eeb8c31da9",
   "metadata": {},
   "outputs": [],
   "source": [
    "def is_relatively_prime(p, q):\n",
    "    \"\"\"\n",
    "    Checks whether integer p and q are relatively prime\n",
    "    \n",
    "    Parameters\n",
    "    ----------\n",
    "    p: positive integer\n",
    "    q: positive integer \n",
    "    Returns\n",
    "    -------\n",
    "    bool\n",
    "    \"\"\"\n",
    "    return gcd(p, q) == 1"
   ]
  },
  {
   "cell_type": "code",
   "execution_count": null,
   "id": "7fa5fef9-2686-400d-be08-5c4ff9a7308f",
   "metadata": {},
   "outputs": [],
   "source": []
  }
 ],
 "metadata": {
  "kernelspec": {
   "display_name": "C15088",
   "language": "python",
   "name": "c15088"
  },
  "language_info": {
   "codemirror_mode": {
    "name": "ipython",
    "version": 3
   },
   "file_extension": ".py",
   "mimetype": "text/x-python",
   "name": "python",
   "nbconvert_exporter": "python",
   "pygments_lexer": "ipython3",
   "version": "3.10.5"
  }
 },
 "nbformat": 4,
 "nbformat_minor": 5
}
