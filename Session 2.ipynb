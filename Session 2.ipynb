{
 "cells": [
  {
   "cell_type": "markdown",
   "id": "a8ccf4bb-b82d-4f4e-a6b9-c008f205ac6a",
   "metadata": {},
   "source": [
    "# C15088: Intro to Computer Science and Programming with Python"
   ]
  },
  {
   "cell_type": "markdown",
   "id": "7d2dcf8d-44d1-4870-af3e-f4960bc53340",
   "metadata": {},
   "source": [
    "# Session 2: Branching & Iteration \n",
    "## I. Strings\n",
    "Remember to define a string we use double (\") or single (') quotes. \n",
    "\n",
    "Strings are a collection of characters. These character can be alphabetical or numerical or whatever."
   ]
  },
  {
   "cell_type": "code",
   "execution_count": 4,
   "id": "05c764ab-9b58-4241-86be-3f4bc00c5112",
   "metadata": {},
   "outputs": [
    {
     "name": "stdout",
     "output_type": "stream",
     "text": [
      "happy 😃 :)\n"
     ]
    }
   ],
   "source": [
    "happy = \"happy 😃 :)\"\n",
    "print(happy)"
   ]
  },
  {
   "cell_type": "markdown",
   "id": "653d5781-524c-4c77-b8e4-6374d5cdf175",
   "metadata": {},
   "source": [
    "Strings are immutable meaning they cannot be changed (mutated). When we do operations on a string, we are not actually changing the string by a whole new string. "
   ]
  },
  {
   "cell_type": "code",
   "execution_count": 5,
   "id": "667ec0d9-2284-4d23-a852-8140595728fd",
   "metadata": {},
   "outputs": [
    {
     "name": "stdout",
     "output_type": "stream",
     "text": [
      "This is happy:  happy 😃 :)\n",
      "This is string_1:  happy 😃 :)sad\n"
     ]
    }
   ],
   "source": [
    "string_1 = happy + \"sad\"\n",
    "print(\"This is happy: \", happy)\n",
    "print(\"This is string_1: \", string_1)"
   ]
  },
  {
   "cell_type": "markdown",
   "id": "a6c17e20-fe53-4b50-be30-5c7a7ad4e8c3",
   "metadata": {
    "tags": []
   },
   "source": [
    "Notice that happy remained the same despite us adding the string \"sad\" to it.\n",
    "\n",
    "### Indexing & Slicing\n",
    "We can also index and slice through a string using brackets []. Indexing and slicing allows us to select certain characters from a string according to their index. You can think of a string's indices (that's plural for index) as the coordinate for each character within the string. \n",
    "\n",
    "Please note that Python starts indexing from 0, which means that the first character is at index 0 (not 1!!!).\n",
    "For example:"
   ]
  },
  {
   "cell_type": "code",
   "execution_count": 9,
   "id": "23510c09-e8bd-4895-8dcf-5c693f3be332",
   "metadata": {},
   "outputs": [
    {
     "name": "stdout",
     "output_type": "stream",
     "text": [
      "First character:  C\n",
      "Last character:  s\n",
      "Last character, again:  s\n",
      "Entire string:  Colorless green ideas\n",
      "Entire string, again:  Colorless green ideas\n",
      "Every other character:  Clresgenies\n",
      "Reversed string:  saedi neerg sselroloC\n"
     ]
    }
   ],
   "source": [
    "string_2 = \"Colorless green ideas\"\n",
    "print(\"First character: \", string_2[0])\n",
    "print(\"Last character: \", string_2[-1])\n",
    "print(\"Last character, again: \", string_2[20])\n",
    "print(\"Entire string: \", string_2)\n",
    "print(\"Entire string, again: \", string_2[:])\n",
    "print(\"Every other character: \", string_2[::2])\n",
    "print(\"Reversed string: \", string_2[::-1])"
   ]
  },
  {
   "cell_type": "markdown",
   "id": "71589fa3-a136-4750-aaf7-1682dcf45a4f",
   "metadata": {},
   "source": [
    "### Len() Function\n",
    "Python has this built-in function len() which returns the length of any collection object (e.g., string) as an integer."
   ]
  },
  {
   "cell_type": "code",
   "execution_count": 10,
   "id": "b95b9353-2475-4f8c-aac4-78f6c3012156",
   "metadata": {},
   "outputs": [
    {
     "data": {
      "text/plain": [
       "21"
      ]
     },
     "execution_count": 10,
     "metadata": {},
     "output_type": "execute_result"
    }
   ],
   "source": [
    "len(string_2)"
   ]
  },
  {
   "cell_type": "markdown",
   "id": "b9f74ce2-f6f9-43f9-9e99-b5a6a4bf39c6",
   "metadata": {},
   "source": [
    "## II. Addition assignment operator (+=)\n",
    "Python, like many programming languages, allows one to shorten the operation of incrementing and decrementing of a variable by simply placing the operator (+) before the assignment symbol (=)."
   ]
  },
  {
   "cell_type": "code",
   "execution_count": 12,
   "id": "f073a798-2449-4da4-a271-faa510062ce0",
   "metadata": {},
   "outputs": [
    {
     "name": "stdout",
     "output_type": "stream",
     "text": [
      "6\n"
     ]
    }
   ],
   "source": [
    "x_1 = 5\n",
    "x_1 += 1\n",
    "print(x_1)"
   ]
  },
  {
   "cell_type": "markdown",
   "id": "005e07cb-e116-40be-b099-bee3c27df63a",
   "metadata": {},
   "source": [
    "You can do this on strings and other data types as long as the operator supports the given data type. But you can even do this with other operators besides +."
   ]
  },
  {
   "cell_type": "code",
   "execution_count": 14,
   "id": "4e98f9f2-c680-4c60-a066-cd2ff13774f6",
   "metadata": {},
   "outputs": [
    {
     "name": "stdout",
     "output_type": "stream",
     "text": [
      "5\n"
     ]
    }
   ],
   "source": [
    "x_2 = 30\n",
    "x_2 //= 6\n",
    "print(x_2)"
   ]
  },
  {
   "cell_type": "markdown",
   "id": "c6bc8f5e-200c-41d4-a249-72767fd671e7",
   "metadata": {},
   "source": [
    "## III. Branching & Indentation\n",
    "Branching and indentation are more of the grammar rules of Python. \n",
    "\n",
    "### Branching\n",
    "Branching refers to using conditional statements to change the flow of a process/execution in programming. What does that even mean?\n",
    "\n",
    "Well, let's use a real life example. Imagine you're the computer. You have a function that allows you to wear a rain coat and one not to. Imaging you deciding to wear a rain coat or not as a process/execution. So, if it were raining then you would wear the rain coat. Else, don't. This kind of thinking is applied everywhere in computer science. We use if, else, and elif (else if) statements for the conditions. \n",
    "\n",
    "### Booleans\n",
    "Booleans (bools) are a primitive data type seen across most programming languages. What are their values? __True__ or __False__. The comparison operators evaluate to bools (True or False) and are then use for if, elif, else statements.\n",
    "\n",
    "* _Note_ __iff__ = if and only if\n",
    "\n",
    "There are other important keywords you should know:\n",
    "* __and__: bool_1 __and___ bool_2 evaluates to True __iff__ bool_1 & bool_2 are True\n",
    "* __not__: __not__ bool_1 evaluates to True __iff__ bool_1 is False\n",
    "* __or__: bool_1 __or__ bool_2 evalutes to True if bool_1 == True or bool_2 == True."
   ]
  },
  {
   "cell_type": "code",
   "execution_count": 16,
   "id": "70bc221d-dfca-4f5d-9d8e-b5cf2f3e8c72",
   "metadata": {},
   "outputs": [
    {
     "name": "stdout",
     "output_type": "stream",
     "text": [
      "Expression 1 evaluated to:  False\n",
      "Expression 2 evaluated to:  False\n",
      "Expression 3 evaluated to:  True\n"
     ]
    }
   ],
   "source": [
    "bool_1 = True\n",
    "bool_2 = False\n",
    "\n",
    "expression_1 = bool_1 and bool_2\n",
    "expression_2 = not bool_1\n",
    "expression_3 = bool_1 or bool_2\n",
    "\n",
    "print(\"Expression 1 evaluated to: \", expression_1)\n",
    "print(\"Expression 2 evaluated to: \", expression_2)\n",
    "print(\"Expression 3 evaluated to: \", expression_3)"
   ]
  },
  {
   "cell_type": "markdown",
   "id": "b42b81e9-7f13-4a38-b059-4f302f373757",
   "metadata": {},
   "source": [
    "### Indentation \n",
    "Python uses indentation to indicate a block of code you should execute according to a condition. Indentation is done by pressing the Tab key.\n",
    "\n",
    "It is best learned when seen, so:"
   ]
  },
  {
   "cell_type": "code",
   "execution_count": 24,
   "id": "626dd51e-8f19-4371-b510-0b0775f7df45",
   "metadata": {},
   "outputs": [
    {
     "name": "stdout",
     "output_type": "stream",
     "text": [
      "x finally evaluated to:  20\n"
     ]
    }
   ],
   "source": [
    "x = 8\n",
    "y = 9\n",
    "\n",
    "if x > y: \n",
    "# if 1\n",
    "    x -= 8\n",
    "elif x < 3: \n",
    "# elif 1\n",
    "    if x < 1: \n",
    "    # if 2  \n",
    "        x //= 2\n",
    "    else: \n",
    "    # else 1\n",
    "        x += y\n",
    "else: \n",
    "# else 2\n",
    "    if y > 10: \n",
    "    # if 3\n",
    "        x = y%2\n",
    "    else: \n",
    "    # else 3\n",
    "        x += y + 6\n",
    "    \n",
    "    x -= 3\n",
    "\n",
    "print(\"x finally evaluated to: \", x)"
   ]
  },
  {
   "cell_type": "markdown",
   "id": "0a84c4f6-a8a8-42b8-8e01-34cc9bfb752b",
   "metadata": {},
   "source": [
    "Notice how we used a tab everytime we wanted to indicate what block of code depended on the previous stated conditional statement.\n",
    "\n",
    "Let's walkthrough the code from above. I labeled the if, elif, and else statements with comments so you know what conditional statements were even considered.\n",
    "\n",
    "First, we check __if 1__: is x greater than y? No, so we go check the next conditional statement that shares the same indentation which is __elif 1__.\n",
    "\n",
    "__elif 1__: is x < 3? No, move on to the next conditional statement with the same indentation\n",
    "\n",
    "__else 2__: No need to check anything evaluate the block.\n",
    "\n",
    "Within the __else 2__ block we have more conditional statements starting off with __if 3__.\n",
    "\n",
    "__if 3__: is y > 10? Nope, move on.\n",
    "\n",
    "__else 3__: No condition needs to be met now, calculate x += y + 6. Move on. Notice, we will then perform x -= 3 since it's still part of the __else 3__ block.\n"
   ]
  },
  {
   "cell_type": "markdown",
   "id": "e90d0cfa-1302-496d-a128-83f9eef75687",
   "metadata": {},
   "source": [
    "## IV. Iteration"
   ]
  },
  {
   "cell_type": "markdown",
   "id": "b1be2fdc-61d6-40b9-b585-2d2a7f2df144",
   "metadata": {},
   "source": [
    "Iteration is the repetion of a process. We use this a lot in programming. We use the keyword __while__ and __for__ to iterate through a process.\n",
    "\n",
    "### while:\n",
    "while is similar to if in the sense that as long as the condition is True it will perform its code block. Note that the condition is not checked until the end of the code block."
   ]
  },
  {
   "cell_type": "code",
   "execution_count": 32,
   "id": "4d0d17c0-79fe-4016-9dde-d1410b03499c",
   "metadata": {},
   "outputs": [
    {
     "name": "stdout",
     "output_type": "stream",
     "text": [
      "Partial sum from 1 to 100:  5050\n",
      "Triangular number of n = 100:  5050.0\n"
     ]
    }
   ],
   "source": [
    "n = 100\n",
    "i = 0\n",
    "summation = 0\n",
    "while i < n:\n",
    "    i += 1\n",
    "    summation += i\n",
    "    \n",
    "# You might have seen this formula in math class\n",
    "# It solves the partial sum of 1 + 2 + 3 + 4 + ... + n\n",
    "# where n is a real number (not infinity)!\n",
    "triangular_number = (n * (n + 1)) / 2\n",
    "\n",
    "print(\"Partial sum from 1 to 100: \", summation)\n",
    "print(\"Triangular number of n = 100: \", triangular_number)"
   ]
  },
  {
   "cell_type": "markdown",
   "id": "4620b54e-a045-4bac-bc45-e249e1285dab",
   "metadata": {},
   "source": [
    "### for \n",
    "Instead of a conditional, for iterates through a sequence of values. It can loop through a collection object like a string. \n",
    "\n",
    "### range()\n",
    "The range function is used a lot in unison with the for loop since it generates a sequence of numbers. Its arguments are similar to that of splicing.\n",
    "\n",
    "__range(start, stop, step)__\n",
    "* start = indicates the number you want to start from\n",
    "* stop = indicates the number you want to stop on (exclusive, meaning it will not include this number)\n",
    "* step = refers to the step size (use negative sign to go in reverse direction)"
   ]
  },
  {
   "cell_type": "code",
   "execution_count": 36,
   "id": "8dcfe89f-918d-49fb-b460-0cacc8ed14d7",
   "metadata": {},
   "outputs": [
    {
     "name": "stdout",
     "output_type": "stream",
     "text": [
      "5050\n"
     ]
    }
   ],
   "source": [
    "summation_2 = 0\n",
    "for i in range(100, 0, -1):\n",
    "    summation_2 += i\n",
    "print(summation_2)"
   ]
  },
  {
   "cell_type": "code",
   "execution_count": 37,
   "id": "878f752c-76c3-4ebd-98a7-2694e0fb97c8",
   "metadata": {},
   "outputs": [
    {
     "name": "stdout",
     "output_type": "stream",
     "text": [
      "a\n",
      "b\n",
      "c\n",
      "d\n",
      "e\n",
      "f\n",
      "g\n",
      "h\n",
      "i\n",
      "j\n",
      "k\n",
      "l\n",
      "m\n",
      "n\n",
      "o\n",
      "p\n",
      "q\n",
      "r\n",
      "s\n",
      "t\n",
      "u\n",
      "v\n",
      "w\n",
      "x\n",
      "y\n",
      "z\n"
     ]
    }
   ],
   "source": [
    "alphabet = \"abcdefghijklmnopqrstuvwxyz\"\n",
    "for letter in alphabet:\n",
    "    print(letter)"
   ]
  }
 ],
 "metadata": {
  "kernelspec": {
   "display_name": "C15088",
   "language": "python",
   "name": "c15088"
  },
  "language_info": {
   "codemirror_mode": {
    "name": "ipython",
    "version": 3
   },
   "file_extension": ".py",
   "mimetype": "text/x-python",
   "name": "python",
   "nbconvert_exporter": "python",
   "pygments_lexer": "ipython3",
   "version": "3.10.5"
  }
 },
 "nbformat": 4,
 "nbformat_minor": 5
}
