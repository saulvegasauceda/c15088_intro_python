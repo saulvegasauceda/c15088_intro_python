{
 "cells": [
  {
   "cell_type": "markdown",
   "id": "31b991cc-b551-4b9e-8d78-b46ec14534a8",
   "metadata": {},
   "source": [
    "# Our RSA Encryption"
   ]
  },
  {
   "cell_type": "markdown",
   "id": "1788c2f5-062c-4789-a6c0-1f9166e2a979",
   "metadata": {},
   "source": [
    "## Math Functions for RSA"
   ]
  },
  {
   "cell_type": "code",
   "execution_count": 1,
   "id": "171d233b-e531-4113-9d8b-c87bc185cc87",
   "metadata": {},
   "outputs": [],
   "source": [
    "def gcd(a, b):\n",
    "    assert type(a) == int, \"a not an integer\"\n",
    "    assert type(b) == int, \"b not an integer\"\n",
    "    assert a >= 0, \"a is not positve\"\n",
    "    assert b >= 0, \"b is not positive\"\n",
    "    \n",
    "    # terminating case: if second number is zero,\n",
    "    # we found gcd\n",
    "    if b == 0:\n",
    "        return a\n",
    "    return gcd(b, a % b)\n",
    "\n",
    "def pulverizer(a, b):\n",
    "    if a == 0:\n",
    "        return (b, 0, 1)\n",
    "    else:\n",
    "        g, y, x = pulverizer(b % a, a)\n",
    "        return (g, x - (b // a) * y, y)\n",
    "\n",
    "def modinv(a, m):\n",
    "    g, x, y = pulverizer(a, m)\n",
    "    if g != 1:\n",
    "        raise Exception('modular inverse does not exist')\n",
    "    else:\n",
    "        return x % m\n",
    "    \n",
    "def is_prime(p):\n",
    "    for i in range(2, (p//2)+1):\n",
    "        if (p % i) == 0:\n",
    "            return False\n",
    "    else:\n",
    "        return True\n",
    "    \n",
    "def is_relatively_prime(p, q):\n",
    "    return gcd(p, q) == 1"
   ]
  },
  {
   "cell_type": "markdown",
   "id": "607be328-3a38-4274-8a0b-c309f7c6fdd5",
   "metadata": {},
   "source": [
    "## RSA Functions"
   ]
  },
  {
   "cell_type": "code",
   "execution_count": 2,
   "id": "4add7a49-141b-4887-a098-96d706dd0381",
   "metadata": {},
   "outputs": [],
   "source": [
    "phrases = {\n",
    "    1: \"Have a nice day!\",\n",
    "    2: \"The weather has been disappointing.\",\n",
    "    3: \"Is cereal a soup?\",\n",
    "    4: \"Is a hotdog a sandwich?\",\n",
    "    5: \"Yes\", \n",
    "    6: \"No\",\n",
    "    7: \"I'm not sure.\",\n",
    "    8: \"I want to learn more programming.\",\n",
    "    9: \"I love The Lion King!\",\n",
    "    10: \"I think Boss Baby is better.\"\n",
    "}"
   ]
  },
  {
   "cell_type": "code",
   "execution_count": 3,
   "id": "95e4d446-524f-41e8-a1ce-517b9467bd4b",
   "metadata": {},
   "outputs": [],
   "source": [
    "def create_keys(p, q, e):\n",
    "    # Step 1\n",
    "    assert is_prime(p), \"p is not prime!\"\n",
    "    assert is_prime(q), \"q is not prime!\"\n",
    "    \n",
    "    # Step 2\n",
    "    n = p * q\n",
    "    z = (p-1) * (q-1)\n",
    "    \n",
    "    # Step 3\n",
    "    assert is_relatively_prime(e, z)\n",
    "    \n",
    "    # Step 4\n",
    "    d = modinv(e, z)\n",
    "    \n",
    "    public_key = (e, n)\n",
    "    private_key = (d, n)\n",
    "    \n",
    "    return public_key, private_key\n",
    "    \n",
    "def encrypt(msg, public_key):\n",
    "    e, n = public_key\n",
    "    msg_prime = (msg**e) % n\n",
    "    return msg_prime\n",
    "\n",
    "def decrypt(msg_prime, private_key):\n",
    "    d, n = private_key\n",
    "    msg = (msg_prime**d) % n\n",
    "    return phrases[msg]"
   ]
  },
  {
   "cell_type": "code",
   "execution_count": 4,
   "id": "041413b8-ca44-4bd4-bed7-2feaa912dabd",
   "metadata": {},
   "outputs": [],
   "source": [
    "public_key, private_key = create_keys(17, 11, 13)"
   ]
  },
  {
   "cell_type": "code",
   "execution_count": 5,
   "id": "c1f4ef04-c9c8-4bff-83be-da190b6a3ad5",
   "metadata": {},
   "outputs": [
    {
     "name": "stdout",
     "output_type": "stream",
     "text": [
      "(13, 187)\n"
     ]
    }
   ],
   "source": [
    "print(public_key)"
   ]
  },
  {
   "cell_type": "code",
   "execution_count": 6,
   "id": "2bf20685-ec78-4a2a-b710-0f11594fb51d",
   "metadata": {},
   "outputs": [],
   "source": [
    "encrypted_message = encrypt(4, public_key)"
   ]
  },
  {
   "cell_type": "code",
   "execution_count": 7,
   "id": "d09caa47-f34d-487d-9129-d150e13c96f8",
   "metadata": {},
   "outputs": [
    {
     "data": {
      "text/plain": [
       "'Is a hotdog a sandwich?'"
      ]
     },
     "execution_count": 7,
     "metadata": {},
     "output_type": "execute_result"
    }
   ],
   "source": [
    "decrypt(encrypted_message, private_key)"
   ]
  },
  {
   "cell_type": "markdown",
   "id": "88b6d53a-cedf-4096-9a75-17b911e89b08",
   "metadata": {},
   "source": [
    "## RSA Classes"
   ]
  },
  {
   "cell_type": "code",
   "execution_count": 8,
   "id": "0bb91389-2885-4f7e-b54b-ea89898f44be",
   "metadata": {},
   "outputs": [],
   "source": [
    "class Key:\n",
    "    def __init__(self, p, q, e):\n",
    "        assert is_prime(p), \"p is not prime!\"\n",
    "        assert is_prime(q), \"q is not prime!\"\n",
    "        self.n = p * q\n",
    "        \n",
    "    def get_n(self):\n",
    "        return self.n\n",
    "    \n",
    "    def __repr__(self):\n",
    "        return f\"Key(n = {self.n})\"\n",
    "    \n",
    "    __str__ = __repr__\n",
    "    \n",
    "class PublicKey(Key):\n",
    "    def __init__(self, n, e):\n",
    "        self.n = n\n",
    "        self.e = e\n",
    "        \n",
    "    def get_e(self):\n",
    "        return self.e\n",
    "    \n",
    "    def __repr__(self):\n",
    "        return f\"PublicKey(n = {self.n}, e = {self.e})\"\n",
    "    \n",
    "    __str__ = __repr__\n",
    "    \n",
    "    \n",
    "class PrivateKey(Key):\n",
    "    def __init__(self, n, d):\n",
    "        self.n = n\n",
    "        self.d = d\n",
    "    \n",
    "    def __repr__(self):\n",
    "        return f\"PrivateKey(n = {self.n}, d = ********)\"\n",
    "    \n",
    "    __str__ = __repr__   "
   ]
  },
  {
   "cell_type": "code",
   "execution_count": 9,
   "id": "1d901386-b95d-42d6-bc32-55484d1856ef",
   "metadata": {},
   "outputs": [],
   "source": [
    "class RSA:\n",
    "    def __init__(self, p, q, e, phrases):\n",
    "        assert is_prime(p), \"p is not prime!\"\n",
    "        assert is_prime(q), \"q is not prime!\"\n",
    "        \n",
    "        z = (p-1) * (q-1)\n",
    "        assert is_relatively_prime(e, z), \"e is invalid!\"\n",
    "        \n",
    "        d = modinv(e, z)\n",
    "        self.n = p * q\n",
    "        self.e = e\n",
    "        self.d = d\n",
    "        self.public_key = None\n",
    "        self.private_key = None\n",
    "        self.phrases = phrases\n",
    "        \n",
    "    def generate_keys(self):\n",
    "        self.public_key = PublicKey(self.n, self.e)\n",
    "        self.private_key = PrivateKey(self.n, self.d)\n",
    "        return (\n",
    "                PrivateKey(self.n, self.d),\n",
    "                PublicKey(self.n, self.e)\n",
    "               )\n",
    "    \n",
    "    def encrypt(self, m):\n",
    "        e = self.public_key.get_e()\n",
    "        n = self.public_key.get_n()\n",
    "        m_prime = (m**e) % n\n",
    "        return m_prime\n",
    "\n",
    "    def decrypt(self, m_prime):\n",
    "        n = self.private_key.get_n()\n",
    "        m = (m_prime**self.d) % n\n",
    "        return self.phrases[m]\n",
    "    \n",
    "    def __repr__(self):\n",
    "        return f\"RSA(n = {self.n}, e = {self.e})\"\n",
    "    \n",
    "    __str__ = __repr__"
   ]
  },
  {
   "cell_type": "code",
   "execution_count": 10,
   "id": "63f879a9-00ba-4a05-8331-8926c91fb7b4",
   "metadata": {},
   "outputs": [
    {
     "name": "stdout",
     "output_type": "stream",
     "text": [
      "PrivateKey(n = 247, d = ********)\n",
      "PublicKey(n = 247, e = 11)\n"
     ]
    }
   ],
   "source": [
    "rsa_env = RSA(13, 19, 11, phrases)\n",
    "priv, pub = rsa_env.generate_keys()\n",
    "print(priv)\n",
    "print(pub)"
   ]
  },
  {
   "cell_type": "code",
   "execution_count": 11,
   "id": "33bf7eba-dc13-46be-8c69-11f9929bc036",
   "metadata": {},
   "outputs": [],
   "source": [
    "hidden_message = rsa_env.encrypt(7)"
   ]
  },
  {
   "cell_type": "code",
   "execution_count": 12,
   "id": "e4610b04-c58c-4e08-8679-681dbae7562b",
   "metadata": {},
   "outputs": [],
   "source": [
    "true_message = rsa_env.decrypt(hidden_message)"
   ]
  },
  {
   "cell_type": "code",
   "execution_count": 13,
   "id": "fadf0d8c-4cfe-4395-ad81-9ef6be2766f4",
   "metadata": {},
   "outputs": [
    {
     "data": {
      "text/plain": [
       "\"I'm not sure.\""
      ]
     },
     "execution_count": 13,
     "metadata": {},
     "output_type": "execute_result"
    }
   ],
   "source": [
    "true_message"
   ]
  }
 ],
 "metadata": {
  "kernelspec": {
   "display_name": "C15088",
   "language": "python",
   "name": "c15088"
  },
  "language_info": {
   "codemirror_mode": {
    "name": "ipython",
    "version": 3
   },
   "file_extension": ".py",
   "mimetype": "text/x-python",
   "name": "python",
   "nbconvert_exporter": "python",
   "pygments_lexer": "ipython3",
   "version": "3.10.5"
  }
 },
 "nbformat": 4,
 "nbformat_minor": 5
}
