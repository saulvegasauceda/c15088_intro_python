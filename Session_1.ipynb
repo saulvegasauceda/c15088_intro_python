{
 "cells": [
  {
   "cell_type": "markdown",
   "id": "64974637",
   "metadata": {},
   "source": [
    "# C15088: Intro to Computer Science and Programming with Python"
   ]
  },
  {
   "cell_type": "markdown",
   "id": "397df176",
   "metadata": {},
   "source": [
    "# Session 1: Python Basics\n",
    "## I. Objects"
   ]
  },
  {
   "cell_type": "markdown",
   "id": "5f8ccc9e",
   "metadata": {},
   "source": [
    "### A. Scalar Objects\n",
    "### Python is known to be an object oriented programming language. What does that mean? That means everything you deal with in Python is an object! \n",
    "\n",
    "### The most basic objects in python are integers, floats (decimals), booleans (True or False), and None (think of this like the 0 of scalar object). These are scalar types, or rather objects that have a single value. There are also collection types which are objects that are - you guessed it - a COLLECTION of other objects (we will see this later)!\n",
    "\n",
    "#### The following shows the different scalar types:"
   ]
  },
  {
   "cell_type": "code",
   "execution_count": 15,
   "id": "3ef2aea8",
   "metadata": {},
   "outputs": [
    {
     "data": {
      "text/plain": [
       "int"
      ]
     },
     "execution_count": 15,
     "metadata": {},
     "output_type": "execute_result"
    }
   ],
   "source": [
    "type(10)"
   ]
  },
  {
   "cell_type": "code",
   "execution_count": 16,
   "id": "2e738559",
   "metadata": {},
   "outputs": [
    {
     "data": {
      "text/plain": [
       "float"
      ]
     },
     "execution_count": 16,
     "metadata": {},
     "output_type": "execute_result"
    }
   ],
   "source": [
    "type(3.14)"
   ]
  },
  {
   "cell_type": "code",
   "execution_count": 17,
   "id": "2a375882",
   "metadata": {},
   "outputs": [
    {
     "data": {
      "text/plain": [
       "bool"
      ]
     },
     "execution_count": 17,
     "metadata": {},
     "output_type": "execute_result"
    }
   ],
   "source": [
    "type(True)"
   ]
  },
  {
   "cell_type": "code",
   "execution_count": 18,
   "id": "e2615f4e",
   "metadata": {},
   "outputs": [
    {
     "data": {
      "text/plain": [
       "NoneType"
      ]
     },
     "execution_count": 18,
     "metadata": {},
     "output_type": "execute_result"
    }
   ],
   "source": [
    "type(None)"
   ]
  },
  {
   "cell_type": "markdown",
   "id": "fb2ee8d7",
   "metadata": {},
   "source": [
    "### B. Strings\n",
    "### One built-in collection type is called the string. Strings are a collection of characters that includes the alphabet, digits, and other symbols you can type on your keyboard. There are 2 ways to define a string: either surrounding the text with double (\") or single quotes ('). Make sure to match your quotes!\n",
    "\n",
    "\n",
    "#### * Please note that the type() function is only here to show you that they are in fact strings.\n",
    "#### Defining strings:"
   ]
  },
  {
   "cell_type": "code",
   "execution_count": 19,
   "id": "b5071fde",
   "metadata": {},
   "outputs": [
    {
     "data": {
      "text/plain": [
       "str"
      ]
     },
     "execution_count": 19,
     "metadata": {},
     "output_type": "execute_result"
    }
   ],
   "source": [
    "type('cat123')"
   ]
  },
  {
   "cell_type": "code",
   "execution_count": 20,
   "id": "f2b1d9b5",
   "metadata": {},
   "outputs": [
    {
     "data": {
      "text/plain": [
       "str"
      ]
     },
     "execution_count": 20,
     "metadata": {},
     "output_type": "execute_result"
    }
   ],
   "source": [
    "type(\"cat123\")"
   ]
  },
  {
   "cell_type": "code",
   "execution_count": 21,
   "id": "982e4fa7",
   "metadata": {},
   "outputs": [
    {
     "ename": "SyntaxError",
     "evalue": "unterminated string literal (detected at line 2) (4201109385.py, line 2)",
     "output_type": "error",
     "traceback": [
      "\u001b[0;36m  Input \u001b[0;32mIn [21]\u001b[0;36m\u001b[0m\n\u001b[0;31m    'cat123\"\u001b[0m\n\u001b[0m    ^\u001b[0m\n\u001b[0;31mSyntaxError\u001b[0m\u001b[0;31m:\u001b[0m unterminated string literal (detected at line 2)\n"
     ]
    }
   ],
   "source": [
    "# Match your quotes or else Python will give you an error!\n",
    "'cat123\""
   ]
  },
  {
   "cell_type": "markdown",
   "id": "d0d6ca76",
   "metadata": {},
   "source": [
    "### C. Casting\n",
    "### In Python you can also easily change types of an object, if they object itself can easily be represented in the other type, e.g. going from the string \"321\" to the integer 321, or integer 3 to float 3.0. Changing types is called casting.\n",
    "\n",
    "#### This is how you do it:"
   ]
  },
  {
   "cell_type": "code",
   "execution_count": null,
   "id": "ffc9047f",
   "metadata": {},
   "outputs": [
    {
     "data": {
      "text/plain": [
       "'1234'"
      ]
     },
     "execution_count": 29,
     "metadata": {},
     "output_type": "execute_result"
    }
   ],
   "source": [
    "# From int to str:\n",
    "str(1234)"
   ]
  },
  {
   "cell_type": "code",
   "execution_count": null,
   "id": "342b45f1",
   "metadata": {},
   "outputs": [
    {
     "data": {
      "text/plain": [
       "321"
      ]
     },
     "execution_count": 30,
     "metadata": {},
     "output_type": "execute_result"
    }
   ],
   "source": [
    "# From str to int\n",
    "int('321')"
   ]
  },
  {
   "cell_type": "code",
   "execution_count": null,
   "id": "0c0c8d44",
   "metadata": {},
   "outputs": [
    {
     "ename": "ValueError",
     "evalue": "invalid literal for int() with base 10: 'abc'",
     "output_type": "error",
     "traceback": [
      "\u001b[0;31m---------------------------------------------------------------------------\u001b[0m",
      "\u001b[0;31mValueError\u001b[0m                                Traceback (most recent call last)",
      "Input \u001b[0;32mIn [31]\u001b[0m, in \u001b[0;36m<cell line: 2>\u001b[0;34m()\u001b[0m\n\u001b[1;32m      1\u001b[0m \u001b[38;5;66;03m# You can always try and see what works and what doesn't.\u001b[39;00m\n\u001b[0;32m----> 2\u001b[0m \u001b[38;5;28;43mint\u001b[39;49m\u001b[43m(\u001b[49m\u001b[38;5;124;43m'\u001b[39;49m\u001b[38;5;124;43mabc\u001b[39;49m\u001b[38;5;124;43m'\u001b[39;49m\u001b[43m)\u001b[49m\n",
      "\u001b[0;31mValueError\u001b[0m: invalid literal for int() with base 10: 'abc'"
     ]
    }
   ],
   "source": [
    "# You can always try and see what works and what doesn't.\n",
    "int('abc')"
   ]
  },
  {
   "cell_type": "markdown",
   "id": "bee25fff",
   "metadata": {},
   "source": [
    "## II. Operations"
   ]
  },
  {
   "cell_type": "markdown",
   "id": "d60aad31",
   "metadata": {},
   "source": [
    "### Of course, you can perform operations on these objects. In parantheses we indicated the types that perform these operations.\n",
    "#### Addition: i + j (strings, int, float) can only perform if i and j are both numbers or strings\n",
    "#### Substracting: i - j (int, float) \n",
    "#### Multiplication: i * j (int, float, strings) expected behavior but you can also multiply a string with an int to have a repeated sequence\n",
    "#### Division: i / j (int, float) always returns a float\n",
    "#### Floor division: i // j (int) like division except you round down to nearest integer\n",
    "#### Remainder: i % j (int) returns the remainder of dividing both i and j\n",
    "#### Exponents: i ** j (int, float) expected behavior\n",
    "\n",
    "\n",
    "#### When performing an operation between floats and integers, Python will return a float. Also, don't forget PEMDAS!\n",
    "#### Here are some examples:"
   ]
  },
  {
   "cell_type": "code",
   "execution_count": null,
   "id": "62398004",
   "metadata": {},
   "outputs": [
    {
     "data": {
      "text/plain": [
       "3"
      ]
     },
     "execution_count": 26,
     "metadata": {},
     "output_type": "execute_result"
    }
   ],
   "source": [
    "# Floor division\n",
    "10 // 3"
   ]
  },
  {
   "cell_type": "code",
   "execution_count": null,
   "id": "2642b288",
   "metadata": {},
   "outputs": [
    {
     "data": {
      "text/plain": [
       "1"
      ]
     },
     "execution_count": 33,
     "metadata": {},
     "output_type": "execute_result"
    }
   ],
   "source": [
    "# Remainder (more commonly known as Modulo)\n",
    "10 % 3"
   ]
  },
  {
   "cell_type": "code",
   "execution_count": null,
   "id": "f5808b30",
   "metadata": {},
   "outputs": [
    {
     "ename": "TypeError",
     "evalue": "unsupported operand type(s) for +: 'int' and 'str'",
     "output_type": "error",
     "traceback": [
      "\u001b[0;31m---------------------------------------------------------------------------\u001b[0m",
      "\u001b[0;31mTypeError\u001b[0m                                 Traceback (most recent call last)",
      "Input \u001b[0;32mIn [27]\u001b[0m, in \u001b[0;36m<cell line: 2>\u001b[0;34m()\u001b[0m\n\u001b[1;32m      1\u001b[0m \u001b[38;5;66;03m# Please read the error message\u001b[39;00m\n\u001b[0;32m----> 2\u001b[0m \u001b[38;5;241;43m3\u001b[39;49m\u001b[43m \u001b[49m\u001b[38;5;241;43m+\u001b[39;49m\u001b[43m \u001b[49m\u001b[38;5;124;43m'\u001b[39;49m\u001b[38;5;124;43mabc\u001b[39;49m\u001b[38;5;124;43m'\u001b[39;49m\n",
      "\u001b[0;31mTypeError\u001b[0m: unsupported operand type(s) for +: 'int' and 'str'"
     ]
    }
   ],
   "source": [
    "# Please read the error message\n",
    "3 + 'abc'"
   ]
  },
  {
   "cell_type": "code",
   "execution_count": null,
   "id": "af9e10e9",
   "metadata": {},
   "outputs": [
    {
     "data": {
      "text/plain": [
       "'abcdef'"
      ]
     },
     "execution_count": 46,
     "metadata": {},
     "output_type": "execute_result"
    }
   ],
   "source": [
    "'abc' + 'def'"
   ]
  },
  {
   "cell_type": "code",
   "execution_count": null,
   "id": "c86e509c",
   "metadata": {},
   "outputs": [
    {
     "data": {
      "text/plain": [
       "'abcabcabc'"
      ]
     },
     "execution_count": 28,
     "metadata": {},
     "output_type": "execute_result"
    }
   ],
   "source": [
    "# Returns repeated sequence\n",
    "3 * 'abc'"
   ]
  },
  {
   "cell_type": "code",
   "execution_count": null,
   "id": "2686fb24",
   "metadata": {},
   "outputs": [
    {
     "data": {
      "text/plain": [
       "float"
      ]
     },
     "execution_count": 36,
     "metadata": {},
     "output_type": "execute_result"
    }
   ],
   "source": [
    "# Notice how the result is a float\n",
    "type(4/3)"
   ]
  },
  {
   "cell_type": "markdown",
   "id": "468d86cb",
   "metadata": {},
   "source": [
    "## III. Variables"
   ]
  },
  {
   "cell_type": "markdown",
   "id": "deb93df3",
   "metadata": {},
   "source": [
    "### You can think of variables as names for objects. They're easy to implement and treat them like their original object. Like this:"
   ]
  },
  {
   "cell_type": "code",
   "execution_count": null,
   "id": "2e9519a6",
   "metadata": {},
   "outputs": [],
   "source": [
    "pi = 3.1415926535897932384626433832795028841971693993751058209749445923078164062862089986280348253421170679"
   ]
  },
  {
   "cell_type": "code",
   "execution_count": null,
   "id": "947880da",
   "metadata": {},
   "outputs": [
    {
     "name": "stdout",
     "output_type": "stream",
     "text": [
      "8.141592653589793\n"
     ]
    }
   ],
   "source": [
    "# Python sometimes truncates the visualization of an object\n",
    "sum = 5 + pi\n",
    "print(sum)"
   ]
  },
  {
   "cell_type": "markdown",
   "id": "93bb7479",
   "metadata": {},
   "source": [
    "#### Isn't that much better than typing the first 100 digits of pi all over again"
   ]
  },
  {
   "cell_type": "markdown",
   "id": "dc851c6f",
   "metadata": {},
   "source": [
    "### Some important things to note: if you use the same name for multiple objects, Python will only remember the last assignment you gave that variable."
   ]
  },
  {
   "cell_type": "code",
   "execution_count": null,
   "id": "24c9d235",
   "metadata": {},
   "outputs": [
    {
     "name": "stdout",
     "output_type": "stream",
     "text": [
      "0\n"
     ]
    }
   ],
   "source": [
    "x = 5\n",
    "x = 0\n",
    "print(x)"
   ]
  }
 ],
 "metadata": {
  "kernelspec": {
   "display_name": "C15088",
   "language": "python",
   "name": "c15088"
  },
  "language_info": {
   "codemirror_mode": {
    "name": "ipython",
    "version": 3
   },
   "file_extension": ".py",
   "mimetype": "text/x-python",
   "name": "python",
   "nbconvert_exporter": "python",
   "pygments_lexer": "ipython3",
   "version": "3.10.4"
  }
 },
 "nbformat": 4,
 "nbformat_minor": 5
}
