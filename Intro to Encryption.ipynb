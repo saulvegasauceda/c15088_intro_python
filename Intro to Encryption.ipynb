{
 "cells": [
  {
   "cell_type": "markdown",
   "id": "7d602519-8152-4bae-9559-324e022b92d7",
   "metadata": {},
   "source": [
    "# C15088: Intro to Computer Science and Programming with Python"
   ]
  },
  {
   "cell_type": "markdown",
   "id": "35fdfb28-3fed-474a-99c4-62b889654082",
   "metadata": {},
   "source": [
    "# Cryptography\n",
    "\n",
    "Encryption is the process of reformatting/converting a mesage to hide its true contents (aka create a secrete code). Decryption is the process of converting an encrypted message back to its original form."
   ]
  },
  {
   "cell_type": "markdown",
   "id": "9e47b269-c8ca-4fa8-9ca6-a741be53a110",
   "metadata": {},
   "source": [
    "## Caesar Cipher"
   ]
  },
  {
   "cell_type": "markdown",
   "id": "b978e55b-02d5-4361-9e8c-6ab78fd69dfe",
   "metadata": {},
   "source": [
    "One of the most popular and simplest form of encryption. Essentially, you shift the alphabet by constant factor. For instance a Caesar shift of 3 turns A -> D, B -> E, C -> F, etc. This technique is named after the famous Julius Caesar because he would use this technique with a shift of three for this private matters.\n",
    "\n",
    "Encypting follows this pattern, where x is the letter (A binds to 0, ... Z binds to 25) and n is the shift\n",
    "$$E_n(x) = (x + n)\\mod 26$$\n",
    "$$D_n(x) = (x - n)\\mod 26$$"
   ]
  },
  {
   "cell_type": "markdown",
   "id": "71c48fb1-44f4-4cf0-9d85-0494f5d79c7d",
   "metadata": {},
   "source": [
    "### Code:"
   ]
  },
  {
   "cell_type": "code",
   "execution_count": 10,
   "id": "13971f3c-5211-4ebf-96e6-7be3918691f6",
   "metadata": {},
   "outputs": [],
   "source": [
    "symbols = 'ABCDEFGHIJKLMNOPQRSTUVWXYZ '"
   ]
  },
  {
   "cell_type": "code",
   "execution_count": 39,
   "id": "14e6b95f-f42f-403d-9323-d94c78e93ff3",
   "metadata": {},
   "outputs": [],
   "source": [
    "def caesar_cipher(message, shift, encrypt=True):\n",
    "    \"\"\"\n",
    "    Encrypt and decrypt messages using Caesar cipher technique.\n",
    "    \n",
    "    Parameters\n",
    "    ----------\n",
    "    message: str (containing only capital english letters and a space)\n",
    "        Original message that will be encrypted/decrypted.\n",
    "    shift: int\n",
    "        The shift of the cipher.\n",
    "    encrypt: bool\n",
    "        Indicate whethers to encrypt when True and decrypt when False\n",
    "        \n",
    "    Returns\n",
    "    -------\n",
    "    str\n",
    "        The final encrypted/decrypted message.\n",
    "    \"\"\"\n",
    "    final_message = \"\"\n",
    "    \n",
    "    for letter in message:\n",
    "        if letter in symbols:\n",
    "            x = symbols.index(letter) # getting index of letter            \n",
    "            if encrypt == True:\n",
    "                e = (x + shift) % 27 # performing encryption calculation\n",
    "                # Note: we are using 27 instead of 26 because we are also including spaces\n",
    "                final_message += symbols[e] # getting letter at position e\n",
    "            else: \n",
    "                # performing decryption instead\n",
    "                d = (x - shift) % 27\n",
    "                final_message += symbols[d] \n",
    "                \n",
    "    return final_message"
   ]
  },
  {
   "cell_type": "code",
   "execution_count": 28,
   "id": "08fe0b50-cc06-4f5c-a607-121c4e35c8dd",
   "metadata": {},
   "outputs": [
    {
     "data": {
      "text/plain": [
       "'WDFRCWXHVGDA'"
      ]
     },
     "execution_count": 28,
     "metadata": {},
     "output_type": "execute_result"
    }
   ],
   "source": [
    "caesar_encrypted_message = caesar_cipher('TACO TUESDAY', 3)\n",
    "caesar_encrypted_message"
   ]
  },
  {
   "cell_type": "code",
   "execution_count": 30,
   "id": "b1ad094a-6f79-4493-a516-cafa78843cd7",
   "metadata": {},
   "outputs": [
    {
     "data": {
      "text/plain": [
       "'TACO TUESDAY'"
      ]
     },
     "execution_count": 30,
     "metadata": {},
     "output_type": "execute_result"
    }
   ],
   "source": [
    "caesar_cipher(caesar_encrypted_message, 3, False)"
   ]
  },
  {
   "cell_type": "markdown",
   "id": "321f2eef-0fb7-4604-8369-910b3adecd8a",
   "metadata": {},
   "source": [
    "## Vigenere Cipher"
   ]
  },
  {
   "cell_type": "markdown",
   "id": "766c3df6-632f-408b-aa4c-df751b3f3ec6",
   "metadata": {},
   "source": [
    "Builds on the Caesar cipher. Able to apply a shift for each different letter. Shifting each letter by the corresponding letter in a keyword (following the number scheme where A -> 0). You could imagine it as adding two messages together. If the keyword is shorter than the original message we will simply wrap around back to the first letter of the key."
   ]
  },
  {
   "cell_type": "code",
   "execution_count": 38,
   "id": "0d91dfba-e1d9-4d9e-8f7c-48abdb107eb9",
   "metadata": {},
   "outputs": [],
   "source": [
    "def vigenere_cipher(message, keyword, encrypt=True):\n",
    "    \"\"\"\n",
    "    Encrypt and decrypt messages using Vigenere cipher technique.\n",
    "    \n",
    "    Parameters\n",
    "    ----------\n",
    "    message: str (containing only capital english letters and a space)\n",
    "        Original message that will be encrypted/decrypted.\n",
    "    keyword: str (containing only ASCII characters)\n",
    "        The keyword that will supply the shifts for each letter.\n",
    "    encrypt: bool\n",
    "        Indicate whethers to encrypt when True and decrypt when False\n",
    "        \n",
    "    Returns\n",
    "    -------\n",
    "    str\n",
    "        The final encrypted/decrypted message.\n",
    "    \"\"\"\n",
    "    final_message = ''\n",
    "    message_size = len(message)\n",
    "    key_size = len(keyword)\n",
    "    \n",
    "    for index in range(message_size):\n",
    "        k = keyword[index % key_size] # this is the scheme for looping around the keyword\n",
    "        shift = ord(k) - 32 # obtaining ASCII values and offsetting so that space provides of 0\n",
    "        final_message += caesar_cipher(message[index], shift, encrypt) # applying caesar on each letter\n",
    "    return final_message"
   ]
  },
  {
   "cell_type": "code",
   "execution_count": 35,
   "id": "c31dac23-eff8-4cb3-b891-79bb80bfad1c",
   "metadata": {},
   "outputs": [
    {
     "data": {
      "text/plain": [
       "'D BJODTDNSLX'"
      ]
     },
     "execution_count": 35,
     "metadata": {},
     "output_type": "execute_result"
    }
   ],
   "source": [
    "vigenere_encrypted_message = vigenere_cipher('TACO TUESDAY', 'apple')\n",
    "vigenere_encrypted_message"
   ]
  },
  {
   "cell_type": "code",
   "execution_count": 36,
   "id": "f58a99d5-ede3-49e4-baf2-015ee001f316",
   "metadata": {},
   "outputs": [
    {
     "data": {
      "text/plain": [
       "'TACO TUESDAY'"
      ]
     },
     "execution_count": 36,
     "metadata": {},
     "output_type": "execute_result"
    }
   ],
   "source": [
    "vigenere_cipher(vigenere_encrypted_message, 'apple', False)"
   ]
  },
  {
   "cell_type": "markdown",
   "id": "941d2c49-a801-4d3e-b938-7d1bf562294a",
   "metadata": {},
   "source": [
    "Source: Wikipedia"
   ]
  }
 ],
 "metadata": {
  "kernelspec": {
   "display_name": "C15088",
   "language": "python",
   "name": "c15088"
  },
  "language_info": {
   "codemirror_mode": {
    "name": "ipython",
    "version": 3
   },
   "file_extension": ".py",
   "mimetype": "text/x-python",
   "name": "python",
   "nbconvert_exporter": "python",
   "pygments_lexer": "ipython3",
   "version": "3.10.5"
  }
 },
 "nbformat": 4,
 "nbformat_minor": 5
}
